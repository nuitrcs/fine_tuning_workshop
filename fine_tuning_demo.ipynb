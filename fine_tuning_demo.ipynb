{
  "cells": [
    {
      "cell_type": "markdown",
      "metadata": {
        "id": "2IY9AaWuVDuK"
      },
      "source": [
        "TODO:\n",
        "- Double check everything\n",
        "- Polish\n",
        "\n",
        "# Demo for the Fine-Tuning LLMs for Text Analysis workshop\n",
        "\n",
        "Note: the code in this notebook is for demonstration purposes. You need to adapt it for a research project. The hyperparameters used here are also not optimal.\n",
        "\n",
        "## Install libraries required for the workshop and that are not available by default in Google Colab"
      ]
    },
    {
      "cell_type": "code",
      "execution_count": null,
      "metadata": {
        "colab": {
          "base_uri": "https://localhost:8080/"
        },
        "id": "wGi7lTeSUz75",
        "outputId": "20c4daa0-edac-44a0-b929-3a2ab7668ac7"
      },
      "outputs": [],
      "source": [
        "try:\n",
        "    import google.colab\n",
        "    ! pip install evaluate\n",
        "except ModuleNotFoundError:\n",
        "    pass"
      ]
    },
    {
      "cell_type": "markdown",
      "metadata": {
        "id": "Ik3z9rg9VVOX"
      },
      "source": [
        "## Import libraries"
      ]
    },
    {
      "cell_type": "code",
      "execution_count": null,
      "metadata": {
        "id": "HkzDzDh6VWF5"
      },
      "outputs": [],
      "source": [
        "# To work with dataframes\n",
        "import pandas as pd\n",
        "\n",
        "# To work with arrays\n",
        "import numpy as np\n",
        "\n",
        "# To split data\n",
        "from sklearn.model_selection import train_test_split\n",
        "\n",
        "# To prepare the data in the expected format\n",
        "from datasets import DatasetDict, Dataset\n",
        "\n",
        "# To fine-tune model\n",
        "from transformers import AutoTokenizer, AutoModelForSequenceClassification, TrainingArguments, Trainer\n",
        "\n",
        "# To evaluate model\n",
        "import evaluate\n",
        "\n",
        "# To select the computing device and other uses of PyTorch\n",
        "import torch"
      ]
    },
    {
      "cell_type": "markdown",
      "metadata": {
        "id": "dybP0VneVZEU"
      },
      "source": [
        "## Check whether we're using CPU or GPU\n",
        "\n",
        "CUDA is a parallel computing platform and API developed by NVIDIA to use GPUs. In the code chunk below, if it says \"cuda\", it means we're using a GPU."
      ]
    },
    {
      "cell_type": "code",
      "execution_count": null,
      "metadata": {
        "colab": {
          "base_uri": "https://localhost:8080/"
        },
        "id": "ZFN-1_KpVbLf",
        "outputId": "fcf13f7e-786c-4bfd-c16e-821836f4095c"
      },
      "outputs": [],
      "source": [
        "if torch.backends.mps.is_available():\n",
        "    device = torch.device(\"mps\")\n",
        "elif torch.cuda.is_available():\n",
        "    device = torch.device(\"cuda\")\n",
        "else:\n",
        "    device = torch.device(\"cpu\")\n",
        "\n",
        "print(\"Using device:\", device)"
      ]
    },
    {
      "cell_type": "markdown",
      "metadata": {
        "id": "gcfJwJbGVvn0"
      },
      "source": [
        "## Read the data"
      ]
    },
    {
      "cell_type": "code",
      "execution_count": null,
      "metadata": {
        "id": "YwGVJEI6VwhD"
      },
      "outputs": [],
      "source": [
        "train = pd.read_csv(\"https://raw.githubusercontent.com/MoritzLaurer/less-annotating-with-bert-nli/refs/heads/master/data_clean/df_manifesto_protectionism_train.csv\")\n",
        "test = pd.read_csv(\"https://raw.githubusercontent.com/MoritzLaurer/less-annotating-with-bert-nli/refs/heads/master/data_clean/df_manifesto_protectionism_test.csv\")"
      ]
    },
    {
      "cell_type": "code",
      "execution_count": null,
      "metadata": {
        "colab": {
          "base_uri": "https://localhost:8080/"
        },
        "id": "se0qr_rkV6CB",
        "outputId": "ef7d93f6-cd95-4af3-e0a0-9abb1d55a777"
      },
      "outputs": [],
      "source": [
        "train.shape"
      ]
    },
    {
      "cell_type": "code",
      "execution_count": null,
      "metadata": {
        "colab": {
          "base_uri": "https://localhost:8080/",
          "height": 153
        },
        "id": "RDzfpTKJVyJr",
        "outputId": "9821d4ae-47dc-4e6b-d434-c2422e1fadc4"
      },
      "outputs": [],
      "source": [
        "train.head(1)"
      ]
    },
    {
      "cell_type": "code",
      "execution_count": null,
      "metadata": {
        "colab": {
          "base_uri": "https://localhost:8080/",
          "height": 209
        },
        "id": "Tq_aJO3AV_Tw",
        "outputId": "701607de-a3d1-4702-d350-4dd372aa5e55"
      },
      "outputs": [],
      "source": [
        "train['label'].value_counts()"
      ]
    },
    {
      "cell_type": "code",
      "execution_count": null,
      "metadata": {
        "colab": {
          "base_uri": "https://localhost:8080/",
          "height": 209
        },
        "id": "M_H7B9sUWIT0",
        "outputId": "6c4cef68-f079-4bd9-d0ee-9ee76d3c8569"
      },
      "outputs": [],
      "source": [
        "train['label_text'].value_counts()"
      ]
    },
    {
      "cell_type": "markdown",
      "metadata": {
        "id": "2AMk0RGmWDFa"
      },
      "source": [
        "Here we're going to focus on negative vs. positive for simplicity and speed."
      ]
    },
    {
      "cell_type": "code",
      "execution_count": null,
      "metadata": {
        "colab": {
          "base_uri": "https://localhost:8080/"
        },
        "id": "vV7uB7LWV7eN",
        "outputId": "5f7bad19-08fa-4ed1-cd64-de0af2215079"
      },
      "outputs": [],
      "source": [
        "test.shape"
      ]
    },
    {
      "cell_type": "code",
      "execution_count": null,
      "metadata": {
        "colab": {
          "base_uri": "https://localhost:8080/",
          "height": 153
        },
        "id": "Psi4r0ixV3Zw",
        "outputId": "9df5f35c-f3d1-4ce1-bf26-105e99ac120d"
      },
      "outputs": [],
      "source": [
        "test.head(1)"
      ]
    },
    {
      "cell_type": "code",
      "execution_count": null,
      "metadata": {
        "colab": {
          "base_uri": "https://localhost:8080/",
          "height": 209
        },
        "id": "uqbN2hmzV5QI",
        "outputId": "cec3866c-e3f2-42d1-ef24-e050024afb56"
      },
      "outputs": [],
      "source": [
        "test['label'].value_counts()"
      ]
    },
    {
      "cell_type": "code",
      "execution_count": null,
      "metadata": {
        "colab": {
          "base_uri": "https://localhost:8080/",
          "height": 209
        },
        "id": "D_brGP3rWQEZ",
        "outputId": "5f1ecd01-74f0-4e5c-b8ad-adfa791315d4"
      },
      "outputs": [],
      "source": [
        "test['label_text'].value_counts()"
      ]
    },
    {
      "cell_type": "markdown",
      "metadata": {
        "id": "44_JA1wLWWd7"
      },
      "source": [
        "## Clean data\n",
        "\n",
        "Drop \"Other\":"
      ]
    },
    {
      "cell_type": "code",
      "execution_count": null,
      "metadata": {
        "id": "VTAcLst4WRse"
      },
      "outputs": [],
      "source": [
        "train = train[train['label'] != 0]\n",
        "test = test[test['label'] != 0]"
      ]
    },
    {
      "cell_type": "code",
      "execution_count": null,
      "metadata": {
        "colab": {
          "base_uri": "https://localhost:8080/",
          "height": 178
        },
        "id": "4jz5pAw7WcNb",
        "outputId": "79e6917b-5265-47b8-8957-a7b6bbd33f10"
      },
      "outputs": [],
      "source": [
        "train['label'].value_counts()"
      ]
    },
    {
      "cell_type": "code",
      "execution_count": null,
      "metadata": {
        "colab": {
          "base_uri": "https://localhost:8080/",
          "height": 178
        },
        "id": "7hdsxk5fWeKi",
        "outputId": "13f73d9b-dc09-4c9f-ab6d-71a76662f24b"
      },
      "outputs": [],
      "source": [
        "test['label'].value_counts()"
      ]
    },
    {
      "cell_type": "markdown",
      "metadata": {
        "id": "rv-lMZzmWj8A"
      },
      "source": [
        "Label 1 as 0 and 2 as 1. This is important because otherwise later, in `trainer.train()`, you'll get an error (`CUDA error: device-side assert triggered`) because `CrossEntropyLoss`, which is used by defaul in `Trainer` for classificaton, expects class labels starting at 0 (see [here](https://stackoverflow.com/questions/51691563/cuda-runtime-error-59-device-side-assert-triggered) and [here](https://drdroid.io/stack-diagnosis/pytorch-runtimeerror--cuda-error--device-side-assert-triggered))."
      ]
    },
    {
      "cell_type": "code",
      "execution_count": null,
      "metadata": {
        "colab": {
          "base_uri": "https://localhost:8080/"
        },
        "id": "DgySgJvxWfNz",
        "outputId": "6718726e-06d2-4545-8626-6899df272100"
      },
      "outputs": [],
      "source": [
        "train['label'] = train['label'] - 1\n",
        "test['label'] = test['label'] - 1"
      ]
    },
    {
      "cell_type": "code",
      "execution_count": null,
      "metadata": {
        "colab": {
          "base_uri": "https://localhost:8080/",
          "height": 178
        },
        "id": "N4l_9DnrWrqT",
        "outputId": "80fc7b1d-e935-4987-8eb3-8970fd0756ee"
      },
      "outputs": [],
      "source": [
        "train['label'].value_counts()"
      ]
    },
    {
      "cell_type": "code",
      "execution_count": null,
      "metadata": {
        "colab": {
          "base_uri": "https://localhost:8080/",
          "height": 178
        },
        "id": "TnLuZlPdWuHz",
        "outputId": "348baece-c43f-445d-fcb6-9a33a516d73a"
      },
      "outputs": [],
      "source": [
        "test['label'].value_counts()"
      ]
    },
    {
      "cell_type": "markdown",
      "metadata": {
        "id": "fgfN0fZ0W0Hn"
      },
      "source": [
        "Put together all the text (preceding, original, and following):"
      ]
    },
    {
      "cell_type": "code",
      "execution_count": null,
      "metadata": {
        "colab": {
          "base_uri": "https://localhost:8080/"
        },
        "id": "5vxl-bh-Wv0V",
        "outputId": "0dec825f-5ebd-4b58-856c-a7a48b41b864"
      },
      "outputs": [],
      "source": [
        "train['text'] = train['text_preceding'] + \" \" + train['text_original'] + \" \" + train['text_following']\n",
        "test['text'] = test['text_preceding'] + \" \" + test['text_original'] + \" \" + test['text_following']"
      ]
    },
    {
      "cell_type": "code",
      "execution_count": null,
      "metadata": {
        "colab": {
          "base_uri": "https://localhost:8080/",
          "height": 98
        },
        "id": "iVeFZg4MW4oh",
        "outputId": "3c4ef2aa-1ff3-46d3-d655-34ee83f93673"
      },
      "outputs": [],
      "source": [
        "train[['text_preceding', 'text_original', 'text_following', 'text']].head(1)"
      ]
    },
    {
      "cell_type": "code",
      "execution_count": null,
      "metadata": {
        "colab": {
          "base_uri": "https://localhost:8080/",
          "height": 98
        },
        "id": "nSs1iMMzW9JV",
        "outputId": "476453bf-0d57-45ce-dafd-6b4f57ddec94"
      },
      "outputs": [],
      "source": [
        "test[['text_preceding', 'text_original', 'text_following', 'text']].head(1)"
      ]
    },
    {
      "cell_type": "markdown",
      "metadata": {
        "id": "p4XxqCuaXD3b"
      },
      "source": [
        "Remove missing values:"
      ]
    },
    {
      "cell_type": "code",
      "execution_count": null,
      "metadata": {
        "id": "6cEVFflwXCfQ"
      },
      "outputs": [],
      "source": [
        "train = train[train['text'].notna()]"
      ]
    },
    {
      "cell_type": "markdown",
      "metadata": {
        "id": "lkC9Oi_WZzzY"
      },
      "source": [
        "Here's what we have as a reminder:"
      ]
    },
    {
      "cell_type": "code",
      "execution_count": null,
      "metadata": {
        "colab": {
          "base_uri": "https://localhost:8080/"
        },
        "id": "QskSTcNpZ2lx",
        "outputId": "7cb19c3d-fe2c-4273-ed07-ef4bc5e345cf"
      },
      "outputs": [],
      "source": [
        "print(train.loc[1058, 'label_text'])\n",
        "print(train.loc[1058, 'label'])\n",
        "print(train.loc[1058, 'text'])\n",
        "print(\"\")\n",
        "print(train.loc[2111, 'label_text'])\n",
        "print(train.loc[2111, 'label'])\n",
        "print(train.loc[2111, 'text'])"
      ]
    },
    {
      "cell_type": "markdown",
      "metadata": {
        "id": "X25xN5e5dza6"
      },
      "source": [
        "## Split `test` into `validation`, `test`, and `new`\n",
        "\n",
        "This is only for demonstration purposes for this workshop."
      ]
    },
    {
      "cell_type": "code",
      "execution_count": null,
      "metadata": {
        "id": "OuTqzcTudypi"
      },
      "outputs": [],
      "source": [
        "SEED = 6325\n",
        "\n",
        "validation, temp = train_test_split(test, test_size=0.5, random_state=SEED)\n",
        "\n",
        "test, new = train_test_split(temp, test_size=0.5, random_state=SEED)"
      ]
    },
    {
      "cell_type": "code",
      "execution_count": null,
      "metadata": {
        "colab": {
          "base_uri": "https://localhost:8080/"
        },
        "id": "Ci1t-ZOBeqhx",
        "outputId": "ca0ddd6a-0f7e-4302-e271-b2a2f83ee02e"
      },
      "outputs": [],
      "source": [
        "validation.shape"
      ]
    },
    {
      "cell_type": "code",
      "execution_count": null,
      "metadata": {
        "colab": {
          "base_uri": "https://localhost:8080/",
          "height": 178
        },
        "id": "P6AnEdqme5AJ",
        "outputId": "bcb2c207-bc94-46c2-ba9b-f3f22fdd4266"
      },
      "outputs": [],
      "source": [
        "validation['label'].value_counts()"
      ]
    },
    {
      "cell_type": "code",
      "execution_count": null,
      "metadata": {
        "colab": {
          "base_uri": "https://localhost:8080/"
        },
        "id": "J8uiRdg5eqkU",
        "outputId": "9d890478-c167-4cf4-e6e6-c2bec18652c9"
      },
      "outputs": [],
      "source": [
        "test.shape"
      ]
    },
    {
      "cell_type": "code",
      "execution_count": null,
      "metadata": {
        "colab": {
          "base_uri": "https://localhost:8080/",
          "height": 178
        },
        "id": "PCIUz9Xee5gt",
        "outputId": "f82777ee-99d3-448b-82af-81c46758a743"
      },
      "outputs": [],
      "source": [
        "test['label'].value_counts()"
      ]
    },
    {
      "cell_type": "code",
      "execution_count": null,
      "metadata": {
        "colab": {
          "base_uri": "https://localhost:8080/"
        },
        "id": "-madFDMIeqmq",
        "outputId": "13cd04dc-ad0d-48c0-fbe0-9cf497ac75fe"
      },
      "outputs": [],
      "source": [
        "new.shape"
      ]
    },
    {
      "cell_type": "code",
      "execution_count": null,
      "metadata": {
        "colab": {
          "base_uri": "https://localhost:8080/",
          "height": 178
        },
        "id": "D99yoUJne5-A",
        "outputId": "77e094f8-cfb2-47b3-a514-09b7b5fad417"
      },
      "outputs": [],
      "source": [
        "new['label'].value_counts()"
      ]
    },
    {
      "cell_type": "markdown",
      "metadata": {
        "id": "DCwYE2lWZp1t"
      },
      "source": [
        "## Convert to [`DatasetDict`](https://huggingface.co/docs/datasets/v3.6.0/en/package_reference/main_classes#datasets.DatasetDict)\n",
        "\n",
        "This prepares the data in the expected format for training and evaluation."
      ]
    },
    {
      "cell_type": "code",
      "execution_count": null,
      "metadata": {
        "colab": {
          "base_uri": "https://localhost:8080/"
        },
        "id": "HIiKxPvNZslH",
        "outputId": "d2fff2d6-c9b5-4583-b326-ec7fc191083a"
      },
      "outputs": [],
      "source": [
        "dataset = DatasetDict({\n",
        "    'train': Dataset.from_pandas(train[['label', 'text']].reset_index(drop=True)),\n",
        "    'validation': Dataset.from_pandas(validation[['label', 'text']].reset_index(drop=True)),\n",
        "    'test': Dataset.from_pandas(test[['label', 'text']].reset_index(drop=True))\n",
        "})\n",
        "dataset"
      ]
    },
    {
      "cell_type": "markdown",
      "metadata": {
        "id": "-KKb1mRnafCN"
      },
      "source": [
        "## Set model that we're going to use\n",
        "\n",
        "Name from the [Hugging Face website](https://huggingface.co/distilbert/distilbert-base-uncased):"
      ]
    },
    {
      "cell_type": "code",
      "execution_count": null,
      "metadata": {
        "id": "Q5mnlq0iZ8mE"
      },
      "outputs": [],
      "source": [
        "MODEL_NAME = \"distilbert/distilbert-base-uncased\""
      ]
    },
    {
      "cell_type": "markdown",
      "metadata": {
        "id": "MJ_liuh1atI8"
      },
      "source": [
        "## Tokenize the data\n",
        "\n",
        "Load appropriate tokenizer for the model:"
      ]
    },
    {
      "cell_type": "code",
      "execution_count": null,
      "metadata": {
        "id": "MJD76OrhakbU"
      },
      "outputs": [],
      "source": [
        "tokenizer = AutoTokenizer.from_pretrained(MODEL_NAME)"
      ]
    },
    {
      "cell_type": "markdown",
      "metadata": {
        "id": "zy0tzV9dbCQp"
      },
      "source": [
        "Create function to tokenize:"
      ]
    },
    {
      "cell_type": "code",
      "execution_count": null,
      "metadata": {
        "id": "xdm9EuiVbBqW"
      },
      "outputs": [],
      "source": [
        "def tokenize(examples):\n",
        "    return tokenizer(\n",
        "        examples[\"text\"],\n",
        "        padding=\"max_length\",\n",
        "        truncation=True,\n",
        "        # I added max_length for speed.\n",
        "        # Otherwise it defaults to the max the model can take https://huggingface.co/docs/transformers/en/pad_truncation\n",
        "        max_length=128\n",
        "        )"
      ]
    },
    {
      "cell_type": "code",
      "execution_count": null,
      "metadata": {
        "colab": {
          "base_uri": "https://localhost:8080/"
        },
        "id": "ZWEXSzo3bR_I",
        "outputId": "204b3474-bca1-4356-b8d6-95c062cfd45c"
      },
      "outputs": [],
      "source": [
        "example_input = {\"text\": [\"I love this workshop!\"]}\n",
        "\n",
        "tokenize(example_input)"
      ]
    },
    {
      "cell_type": "markdown",
      "metadata": {
        "id": "MysFSHuhbRh1"
      },
      "source": [
        "The output is:\n",
        "- `input_ids`: a list of token IDs corresponding to the input texts. `101` is the CLS token, `1045` is for \"I\", ..., `102` is SEP, and the rest is padding.\n",
        "- `attention_mask` is a list indicating which tokens should be attended to, where 1 is a real token and 0 is padding.\n",
        "\n",
        "Let's tokenize the whole dataset:"
      ]
    },
    {
      "cell_type": "code",
      "execution_count": null,
      "metadata": {
        "colab": {
          "base_uri": "https://localhost:8080/",
          "height": 356,
          "referenced_widgets": [
            "b3a5af2b77aa4461b4dcb3843f00ae57",
            "9e9faa29a50e406bb85e7e19a4b2a995",
            "058af48d5f34429688d439d1225e3f14",
            "e156a16ab9b24ad7a026874ec5091303",
            "24e742c444da4e1ca081fa30a1cae0d8",
            "ee34fcd8a89e493c961fad3f08e501e5",
            "b0fafe8c14b74deab4be765f631ad1ef",
            "78a0b4e9af2d44b3a890330c2d512dde",
            "f878be8994794969a8687f984ce2e746",
            "523c3aae214a4c5cab8b8eaa92bd5157",
            "42b60b84c42f4c9b99a292ff5b214058",
            "f490ff7cba504a43b7e8cc7aaa01371d",
            "4b192840937941548a5399d092ea84eb",
            "a607934ecc90440ea48b7dc53e64f1cc",
            "32b524d53c804b0b9991d63a25b8fc41",
            "084e488bfb4f46269953ec3cf3e743d0",
            "3220eca280434531b09bdb4ffd3fe8d2",
            "06d7ba5890ed43dbbf5b24feb70e0b84",
            "f887a1ab52014f65b066c10e8020db66",
            "cc68a4d748ef414ba3efe6376a133548",
            "38f237780de04ef4bf19b11443e96d8b",
            "f7193d59c3884e64882cae0ff2bf7421",
            "68b69b5c27f4468188a2e2a727a3ea98",
            "e840876f414747be81965d6972c073a0",
            "1ce6b57ed709416eb580097c3238c5f5",
            "53cfb718c894467fb4d554e740293ffd",
            "4fd23ba4ceaa4f5fa2221471655cafee",
            "d6cdfe110e864ddd886fed6fb697ef38",
            "f3907214bae1426b9ecb9f1a8b896652",
            "5491e843ee7c4e1e8c6ffcb044c5e33b",
            "674576b65cdf462d92c1d12ef92160ee",
            "5981669c5d8d432e976e9ba7ac1c03cc",
            "8edcfa75868747538181b065c8a059cb"
          ]
        },
        "id": "Q2LyZDvZcIxw",
        "outputId": "2d957c8a-44d8-4387-f238-646c3c37cbf0"
      },
      "outputs": [],
      "source": [
        "# batched = TRUE to operate on batches of examples rather than individual for speed\n",
        "# https://huggingface.co/docs/datasets/en/process#batch-processing\n",
        "dataset = dataset.map(tokenize, batched=True)\n",
        "dataset"
      ]
    },
    {
      "cell_type": "markdown",
      "metadata": {
        "id": "NCD1wsRldSg_"
      },
      "source": [
        "## Specify how many number of categories"
      ]
    },
    {
      "cell_type": "code",
      "execution_count": null,
      "metadata": {
        "id": "IdAYn7bCcoOi"
      },
      "outputs": [],
      "source": [
        "NUM_LABELS = len(train['label'].unique())"
      ]
    },
    {
      "cell_type": "markdown",
      "metadata": {
        "id": "gaGL7qSVdZgy"
      },
      "source": [
        "## Load the model"
      ]
    },
    {
      "cell_type": "code",
      "execution_count": null,
      "metadata": {
        "colab": {
          "base_uri": "https://localhost:8080/"
        },
        "id": "O2VgTQgVdXA5",
        "outputId": "cf3e0690-9561-4e37-d8a8-31d61d6b0fc9"
      },
      "outputs": [],
      "source": [
        "model = AutoModelForSequenceClassification.from_pretrained(MODEL_NAME, num_labels=NUM_LABELS)"
      ]
    },
    {
      "cell_type": "markdown",
      "metadata": {
        "id": "M0B-fJARdg-l"
      },
      "source": [
        "## Define metrics for evaluation"
      ]
    },
    {
      "cell_type": "code",
      "execution_count": null,
      "metadata": {
        "id": "WRQ1qU9Xdij1"
      },
      "outputs": [],
      "source": [
        "metrics = evaluate.combine([\"accuracy\", \"precision\", \"recall\", \"f1\"])"
      ]
    },
    {
      "cell_type": "markdown",
      "metadata": {
        "id": "QyacYvpVd-fz"
      },
      "source": [
        "Create function to calculate metrics. We need to create `compute_metrics_closure` because we want `metrics` to be an argument but `Trainer` expects the function to accept only one argument (an instance of `EvalPrediction`)."
      ]
    },
    {
      "cell_type": "code",
      "execution_count": null,
      "metadata": {
        "id": "_FDYns9neDdn"
      },
      "outputs": [],
      "source": [
        "def compute_metrics_closure(metrics):\n",
        "  \"\"\"\n",
        "  Creates a compute_metrics function with the provided evaluation metrics.\n",
        "\n",
        "  Args:\n",
        "      metrics (evaluate.EvaluationModule): A combined metric object from the `evaluate` library.\n",
        "\n",
        "  Returns:\n",
        "      function: A function that computes the provided metrics for given model predictions.\n",
        "  \"\"\"\n",
        "\n",
        "  def compute_metrics(eval_pred):\n",
        "      \"\"\"\n",
        "      Computes evaluation metrics for model predictions.\n",
        "\n",
        "      Args:\n",
        "          eval_pred (tuple): A tuple containing:\n",
        "              - logits (np.ndarray): The raw output predictions from the model.\n",
        "              - labels (np.ndarray): The true labels corresponding to the inputs.\n",
        "      Returns:\n",
        "          dict: A dictionary containing the computed metric(s).\n",
        "      \"\"\"\n",
        "\n",
        "      # Unpack the logits and labels from the evaluation prediction tuple\n",
        "      logits, labels = eval_pred\n",
        "\n",
        "      # Convert the raw logits to predicted class labels by selecting the index with the highest logit value\n",
        "      predictions = np.argmax(logits, axis=-1)\n",
        "\n",
        "      # Compute and return the evaluation metric(s) using the predictions and true labels\n",
        "      return metrics.compute(predictions=predictions, references=labels)\n",
        "\n",
        "  return compute_metrics"
      ]
    },
    {
      "cell_type": "markdown",
      "metadata": {
        "id": "zG0fYSNDfErK"
      },
      "source": [
        "## Define arguments for training"
      ]
    },
    {
      "cell_type": "code",
      "execution_count": null,
      "metadata": {
        "id": "zZCcdLYBfGPy"
      },
      "outputs": [],
      "source": [
        "# https://huggingface.co/transformers/v4.7.0/main_classes/trainer.html#transformers.TrainingArguments\n",
        "training_args = TrainingArguments(\n",
        "    # The output directory where the model predictions and checkpoints will be written.\n",
        "    output_dir=\"./output\",\n",
        "    # Total number of training epochs to perform.\n",
        "    num_train_epochs=1,\n",
        "    # The batch size per GPU/TPU core/CPU for training.\n",
        "    per_device_train_batch_size=8,\n",
        "    # The batch size per GPU/TPU core/CPU for evaluation.\n",
        "    per_device_eval_batch_size=8,\n",
        "    # Learning rate\n",
        "    learning_rate=5e-5,\n",
        "    # Weight decay\n",
        "    weight_decay=0.0,\n",
        "    # The logging strategy to adopt during training. Here, logging is done at the end of each epoch.\n",
        "    logging_strategy=\"epoch\",\n",
        "    # The list of integrations to report the results and logs to.\n",
        "    report_to=\"none\"\n",
        ")"
      ]
    },
    {
      "cell_type": "markdown",
      "metadata": {
        "id": "w-oqeWOHf_Oa"
      },
      "source": [
        "## Train the model\n",
        "\n",
        "Define [`Trainer`](https://huggingface.co/docs/transformers/v4.52.3/en/main_classes/trainer#transformers.Trainer) object. This object takes a pretrained model and prepares it for training and evaluation. It abstracts a lot of the complexity that would be necessary using PyTorch directly."
      ]
    },
    {
      "cell_type": "code",
      "execution_count": null,
      "metadata": {
        "id": "n7B5Mu68gAGe"
      },
      "outputs": [],
      "source": [
        "trainer = Trainer(\n",
        "    model=model,\n",
        "    args=training_args,\n",
        "    train_dataset=dataset[\"train\"],\n",
        "    eval_dataset=dataset[\"validation\"],\n",
        "    compute_metrics=compute_metrics_closure(metrics)\n",
        ")"
      ]
    },
    {
      "cell_type": "markdown",
      "metadata": {
        "id": "N2HOWvUFhoJ3"
      },
      "source": [
        "Train model:"
      ]
    },
    {
      "cell_type": "code",
      "execution_count": null,
      "metadata": {
        "colab": {
          "base_uri": "https://localhost:8080/",
          "height": 141
        },
        "id": "w-DHIq4Tho3Z",
        "outputId": "edb31bc8-71c3-4428-e750-228e507e26ca"
      },
      "outputs": [],
      "source": [
        "trainer.train()"
      ]
    },
    {
      "cell_type": "markdown",
      "metadata": {
        "id": "wYCOCs68gioD"
      },
      "source": [
        "- `global_step`: total number of optimization steps (batches) processed.\n",
        "- `training_loss`: average loss computed over all batches in this training run.\n",
        "- `metrics`: dictionary with additional stats.\n",
        "  - `train_runtime`: time taken for training.\n",
        "  - `train_samples_per_second`: how many samples processed per second.\n",
        "  - `train_steps_per_second`: steps performed per second.\n",
        "  - `total_flos`: total floating-point operations used.\n",
        "  - `train_loss`: average loss.\n",
        "  - `epoch`: epoch number completed.\n",
        "\n",
        "## Test the model"
      ]
    },
    {
      "cell_type": "code",
      "execution_count": null,
      "metadata": {
        "colab": {
          "base_uri": "https://localhost:8080/",
          "height": 193
        },
        "id": "pfPWpGzxgi6z",
        "outputId": "ae1441b8-7a1f-4159-ced8-0c31a1c72ca6"
      },
      "outputs": [],
      "source": [
        "trainer.evaluate(eval_dataset=dataset[\"test\"])"
      ]
    },
    {
      "cell_type": "markdown",
      "metadata": {
        "id": "8j0XgoU0glqQ"
      },
      "source": [
        "- `eval_loss`: average loss calculated over the evaluation (test) dataset.\n",
        "- `eval_accuracy`, `eval_precision`, `eval_recall`, `eval_f1`: metrics computed via the `compute_metrics` function.\n",
        "- `eval_runtime`: time taken to run the evaluation loop.\n",
        "- `eval_samples_per_second`: how many test samples were processed per second.\n",
        "- `eval_steps_per_second`: rate at which evaluation batches were processed.\n",
        "- `epoch`: epoch number at which evaluation was done.\n",
        "\n",
        "## Generate predictions on new data\n",
        "\n",
        "Create dataset for `new` data since this is the format that `Trainer` expects."
      ]
    },
    {
      "cell_type": "code",
      "execution_count": null,
      "metadata": {
        "id": "lUdWFvargnjr"
      },
      "outputs": [],
      "source": [
        "new_dataset = Dataset.from_pandas(new[['text']].reset_index(drop=True))"
      ]
    },
    {
      "cell_type": "markdown",
      "metadata": {
        "id": "tUbEamkYo-g3"
      },
      "source": [
        "Tokenize new data with the same tokenizer used during training."
      ]
    },
    {
      "cell_type": "code",
      "execution_count": null,
      "metadata": {
        "colab": {
          "base_uri": "https://localhost:8080/",
          "height": 49,
          "referenced_widgets": [
            "5a909deed9544d7bb03d41c25c1f86bc",
            "25f16b39951a48758cfab4b95db41569",
            "648917039b4c4173a9644af394fc07d7",
            "5752431e32f94d698dd9a2ca94078297",
            "d9f3b83a9b4944feb036b95cf240acdb",
            "e151d226eb59458297897dd2e4025537",
            "618cf9e79b19415b85a689b9fb216355",
            "54d70c2d083d4df3990a78233224154d",
            "75439940ed5345e1a46ef7b308a6db3c",
            "cfcb3047e1f84678a1efc0be3032cc0f",
            "bb6d8f72e9624c56b5cd90682ee2574a"
          ]
        },
        "id": "sdzSs-ZcnqyZ",
        "outputId": "92934e4f-c3a1-4353-c7c1-9c608fddd013"
      },
      "outputs": [],
      "source": [
        "new_dataset = new_dataset.map(tokenize, batched=True)"
      ]
    },
    {
      "cell_type": "markdown",
      "metadata": {
        "id": "wmrX7nCypBYY"
      },
      "source": [
        "Use model to get predictions (logits)."
      ]
    },
    {
      "cell_type": "code",
      "execution_count": null,
      "metadata": {
        "colab": {
          "base_uri": "https://localhost:8080/",
          "height": 1000
        },
        "id": "oo7MBG0Tny9f",
        "outputId": "596ff5ac-4722-43e0-c3c7-cb06bc07246c"
      },
      "outputs": [],
      "source": [
        "predictions = trainer.predict(new_dataset)\n",
        "predictions"
      ]
    },
    {
      "cell_type": "code",
      "execution_count": null,
      "metadata": {
        "colab": {
          "base_uri": "https://localhost:8080/"
        },
        "id": "yvBqI2LpqdXp",
        "outputId": "33b0d295-4aa6-4cf9-d5e0-d9643e669a0a"
      },
      "outputs": [],
      "source": [
        "predictions.predictions"
      ]
    },
    {
      "cell_type": "markdown",
      "metadata": {
        "id": "Y4wZJWBbpFyo"
      },
      "source": [
        "Get predicted classes."
      ]
    },
    {
      "cell_type": "code",
      "execution_count": null,
      "metadata": {
        "colab": {
          "base_uri": "https://localhost:8080/"
        },
        "id": "G2p5Q0oan5Xx",
        "outputId": "39416252-da83-4e06-bc75-0dd1febc3d11"
      },
      "outputs": [],
      "source": [
        "# https://numpy.org/doc/2.2/reference/generated/numpy.argmax.html\n",
        "# Returns the index of the maximum value along an axis.\n",
        "# Axis=1 to find the index of the maximum value in each row of the 2D array.\n",
        "# In this case, that's the class with the highest logit, i.e., the predicted class.\n",
        "predicted_classes = np.argmax(predictions.predictions, axis=1)\n",
        "predicted_classes"
      ]
    },
    {
      "cell_type": "markdown",
      "metadata": {
        "id": "9m1Pqd3cpKDb"
      },
      "source": [
        "Add predictions to the original `new` dataframe."
      ]
    },
    {
      "cell_type": "code",
      "execution_count": null,
      "metadata": {
        "id": "b5C6-OrpoECM"
      },
      "outputs": [],
      "source": [
        "new['predicted_class'] = predicted_classes"
      ]
    },
    {
      "cell_type": "code",
      "execution_count": null,
      "metadata": {
        "colab": {
          "base_uri": "https://localhost:8080/"
        },
        "id": "LSHff8ovoOTr",
        "outputId": "6c20e339-3063-4acf-e37f-9fa634b7e1f9"
      },
      "outputs": [],
      "source": [
        "new.columns"
      ]
    },
    {
      "cell_type": "code",
      "execution_count": null,
      "metadata": {
        "colab": {
          "base_uri": "https://localhost:8080/",
          "height": 178
        },
        "id": "PDJlWDgYoeQY",
        "outputId": "48ff1003-5495-4074-db6c-e2deb1e6cc77"
      },
      "outputs": [],
      "source": [
        "new['predicted_class'].value_counts()"
      ]
    },
    {
      "cell_type": "markdown",
      "metadata": {
        "id": "fvXstSsKpUdf"
      },
      "source": [
        "Since our \"`new`\" data actually had labels, we can compare the predictions with the labels, which wouldn't be the case in an actual research project."
      ]
    },
    {
      "cell_type": "code",
      "execution_count": null,
      "metadata": {
        "colab": {
          "base_uri": "https://localhost:8080/",
          "height": 175
        },
        "id": "9i38Be9CohMU",
        "outputId": "2aa70f46-1abb-4638-b4c8-30553d31749a"
      },
      "outputs": [],
      "source": [
        "pd.crosstab(new['label'], new['predicted_class'], margins=True)"
      ]
    },
    {
      "cell_type": "markdown",
      "metadata": {
        "id": "yRNX719Syotk"
      },
      "source": [
        "## Answer research question"
      ]
    },
    {
      "cell_type": "code",
      "execution_count": null,
      "metadata": {
        "colab": {
          "base_uri": "https://localhost:8080/",
          "height": 237
        },
        "id": "0MkcfYm_0jwQ",
        "outputId": "9a87ee1e-6f13-4570-e482-ed5205d7092b"
      },
      "outputs": [],
      "source": [
        "pd.crosstab(new['country_name'], new['predicted_class'], normalize='index')"
      ]
    },
    {
      "cell_type": "code",
      "execution_count": null,
      "metadata": {
        "colab": {
          "base_uri": "https://localhost:8080/",
          "height": 269
        },
        "id": "-OC5x-YJ1zrr",
        "outputId": "6cab56fd-719a-4882-8f1a-f86c05e61e41"
      },
      "outputs": [],
      "source": [
        "pd.crosstab(new['country_name'], new['predicted_class'], margins=True)"
      ]
    },
    {
      "cell_type": "markdown",
      "metadata": {
        "id": "ZH_U35-biTWa"
      },
      "source": [
        "## Continue learning\n",
        "\n",
        "This notebook includes a lot of URLs that you can go to to learn more about the code. You can also consult these websites:\n",
        "- https://huggingface.co/docs/transformers/en/training\n",
        "- https://medium.com/@hassaanidrees7/fine-tuning-transformers-techniques-for-improving-model-performance-4b4353e8ba93\n",
        "- https://huggingface.co/learn/llm-course/chapter3/3\n",
        "\n",
        "This notebook uses code produced by ChatGPT. That's okay to do as long as you consider the privacy, security, and intellectual property implications, as well as understand the code. We do have a [workshop on writing effective prompts for coding with LLMs](https://github.com/nuitrcs/promptEngineering)."
      ]
    },
    {
      "cell_type": "code",
      "execution_count": null,
      "metadata": {
        "id": "nxxd4qzhhp-1"
      },
      "outputs": [],
      "source": []
    }
  ],
  "metadata": {
    "accelerator": "GPU",
    "colab": {
      "gpuType": "T4",
      "provenance": []
    },
    "kernelspec": {
      "display_name": "fine_tuning_workshop_3",
      "language": "python",
      "name": "python3"
    },
    "language_info": {
      "codemirror_mode": {
        "name": "ipython",
        "version": 3
      },
      "file_extension": ".py",
      "mimetype": "text/x-python",
      "name": "python",
      "nbconvert_exporter": "python",
      "pygments_lexer": "ipython3",
      "version": "3.11.13"
    },
    "widgets": {
      "application/vnd.jupyter.widget-state+json": {
        "058af48d5f34429688d439d1225e3f14": {
          "model_module": "@jupyter-widgets/controls",
          "model_module_version": "1.5.0",
          "model_name": "FloatProgressModel",
          "state": {
            "_dom_classes": [],
            "_model_module": "@jupyter-widgets/controls",
            "_model_module_version": "1.5.0",
            "_model_name": "FloatProgressModel",
            "_view_count": null,
            "_view_module": "@jupyter-widgets/controls",
            "_view_module_version": "1.5.0",
            "_view_name": "ProgressView",
            "bar_style": "success",
            "description": "",
            "description_tooltip": null,
            "layout": "IPY_MODEL_78a0b4e9af2d44b3a890330c2d512dde",
            "max": 1057,
            "min": 0,
            "orientation": "horizontal",
            "style": "IPY_MODEL_f878be8994794969a8687f984ce2e746",
            "value": 1057
          }
        },
        "06d7ba5890ed43dbbf5b24feb70e0b84": {
          "model_module": "@jupyter-widgets/controls",
          "model_module_version": "1.5.0",
          "model_name": "DescriptionStyleModel",
          "state": {
            "_model_module": "@jupyter-widgets/controls",
            "_model_module_version": "1.5.0",
            "_model_name": "DescriptionStyleModel",
            "_view_count": null,
            "_view_module": "@jupyter-widgets/base",
            "_view_module_version": "1.2.0",
            "_view_name": "StyleView",
            "description_width": ""
          }
        },
        "084e488bfb4f46269953ec3cf3e743d0": {
          "model_module": "@jupyter-widgets/base",
          "model_module_version": "1.2.0",
          "model_name": "LayoutModel",
          "state": {
            "_model_module": "@jupyter-widgets/base",
            "_model_module_version": "1.2.0",
            "_model_name": "LayoutModel",
            "_view_count": null,
            "_view_module": "@jupyter-widgets/base",
            "_view_module_version": "1.2.0",
            "_view_name": "LayoutView",
            "align_content": null,
            "align_items": null,
            "align_self": null,
            "border": null,
            "bottom": null,
            "display": null,
            "flex": null,
            "flex_flow": null,
            "grid_area": null,
            "grid_auto_columns": null,
            "grid_auto_flow": null,
            "grid_auto_rows": null,
            "grid_column": null,
            "grid_gap": null,
            "grid_row": null,
            "grid_template_areas": null,
            "grid_template_columns": null,
            "grid_template_rows": null,
            "height": null,
            "justify_content": null,
            "justify_items": null,
            "left": null,
            "margin": null,
            "max_height": null,
            "max_width": null,
            "min_height": null,
            "min_width": null,
            "object_fit": null,
            "object_position": null,
            "order": null,
            "overflow": null,
            "overflow_x": null,
            "overflow_y": null,
            "padding": null,
            "right": null,
            "top": null,
            "visibility": null,
            "width": null
          }
        },
        "1ce6b57ed709416eb580097c3238c5f5": {
          "model_module": "@jupyter-widgets/controls",
          "model_module_version": "1.5.0",
          "model_name": "FloatProgressModel",
          "state": {
            "_dom_classes": [],
            "_model_module": "@jupyter-widgets/controls",
            "_model_module_version": "1.5.0",
            "_model_name": "FloatProgressModel",
            "_view_count": null,
            "_view_module": "@jupyter-widgets/controls",
            "_view_module_version": "1.5.0",
            "_view_name": "ProgressView",
            "bar_style": "success",
            "description": "",
            "description_tooltip": null,
            "layout": "IPY_MODEL_5491e843ee7c4e1e8c6ffcb044c5e33b",
            "max": 85,
            "min": 0,
            "orientation": "horizontal",
            "style": "IPY_MODEL_674576b65cdf462d92c1d12ef92160ee",
            "value": 85
          }
        },
        "24e742c444da4e1ca081fa30a1cae0d8": {
          "model_module": "@jupyter-widgets/base",
          "model_module_version": "1.2.0",
          "model_name": "LayoutModel",
          "state": {
            "_model_module": "@jupyter-widgets/base",
            "_model_module_version": "1.2.0",
            "_model_name": "LayoutModel",
            "_view_count": null,
            "_view_module": "@jupyter-widgets/base",
            "_view_module_version": "1.2.0",
            "_view_name": "LayoutView",
            "align_content": null,
            "align_items": null,
            "align_self": null,
            "border": null,
            "bottom": null,
            "display": null,
            "flex": null,
            "flex_flow": null,
            "grid_area": null,
            "grid_auto_columns": null,
            "grid_auto_flow": null,
            "grid_auto_rows": null,
            "grid_column": null,
            "grid_gap": null,
            "grid_row": null,
            "grid_template_areas": null,
            "grid_template_columns": null,
            "grid_template_rows": null,
            "height": null,
            "justify_content": null,
            "justify_items": null,
            "left": null,
            "margin": null,
            "max_height": null,
            "max_width": null,
            "min_height": null,
            "min_width": null,
            "object_fit": null,
            "object_position": null,
            "order": null,
            "overflow": null,
            "overflow_x": null,
            "overflow_y": null,
            "padding": null,
            "right": null,
            "top": null,
            "visibility": null,
            "width": null
          }
        },
        "25f16b39951a48758cfab4b95db41569": {
          "model_module": "@jupyter-widgets/controls",
          "model_module_version": "1.5.0",
          "model_name": "HTMLModel",
          "state": {
            "_dom_classes": [],
            "_model_module": "@jupyter-widgets/controls",
            "_model_module_version": "1.5.0",
            "_model_name": "HTMLModel",
            "_view_count": null,
            "_view_module": "@jupyter-widgets/controls",
            "_view_module_version": "1.5.0",
            "_view_name": "HTMLView",
            "description": "",
            "description_tooltip": null,
            "layout": "IPY_MODEL_e151d226eb59458297897dd2e4025537",
            "placeholder": "​",
            "style": "IPY_MODEL_618cf9e79b19415b85a689b9fb216355",
            "value": "Map: 100%"
          }
        },
        "3220eca280434531b09bdb4ffd3fe8d2": {
          "model_module": "@jupyter-widgets/base",
          "model_module_version": "1.2.0",
          "model_name": "LayoutModel",
          "state": {
            "_model_module": "@jupyter-widgets/base",
            "_model_module_version": "1.2.0",
            "_model_name": "LayoutModel",
            "_view_count": null,
            "_view_module": "@jupyter-widgets/base",
            "_view_module_version": "1.2.0",
            "_view_name": "LayoutView",
            "align_content": null,
            "align_items": null,
            "align_self": null,
            "border": null,
            "bottom": null,
            "display": null,
            "flex": null,
            "flex_flow": null,
            "grid_area": null,
            "grid_auto_columns": null,
            "grid_auto_flow": null,
            "grid_auto_rows": null,
            "grid_column": null,
            "grid_gap": null,
            "grid_row": null,
            "grid_template_areas": null,
            "grid_template_columns": null,
            "grid_template_rows": null,
            "height": null,
            "justify_content": null,
            "justify_items": null,
            "left": null,
            "margin": null,
            "max_height": null,
            "max_width": null,
            "min_height": null,
            "min_width": null,
            "object_fit": null,
            "object_position": null,
            "order": null,
            "overflow": null,
            "overflow_x": null,
            "overflow_y": null,
            "padding": null,
            "right": null,
            "top": null,
            "visibility": null,
            "width": null
          }
        },
        "32b524d53c804b0b9991d63a25b8fc41": {
          "model_module": "@jupyter-widgets/controls",
          "model_module_version": "1.5.0",
          "model_name": "HTMLModel",
          "state": {
            "_dom_classes": [],
            "_model_module": "@jupyter-widgets/controls",
            "_model_module_version": "1.5.0",
            "_model_name": "HTMLModel",
            "_view_count": null,
            "_view_module": "@jupyter-widgets/controls",
            "_view_module_version": "1.5.0",
            "_view_name": "HTMLView",
            "description": "",
            "description_tooltip": null,
            "layout": "IPY_MODEL_38f237780de04ef4bf19b11443e96d8b",
            "placeholder": "​",
            "style": "IPY_MODEL_f7193d59c3884e64882cae0ff2bf7421",
            "value": " 171/171 [00:00&lt;00:00, 1708.52 examples/s]"
          }
        },
        "38f237780de04ef4bf19b11443e96d8b": {
          "model_module": "@jupyter-widgets/base",
          "model_module_version": "1.2.0",
          "model_name": "LayoutModel",
          "state": {
            "_model_module": "@jupyter-widgets/base",
            "_model_module_version": "1.2.0",
            "_model_name": "LayoutModel",
            "_view_count": null,
            "_view_module": "@jupyter-widgets/base",
            "_view_module_version": "1.2.0",
            "_view_name": "LayoutView",
            "align_content": null,
            "align_items": null,
            "align_self": null,
            "border": null,
            "bottom": null,
            "display": null,
            "flex": null,
            "flex_flow": null,
            "grid_area": null,
            "grid_auto_columns": null,
            "grid_auto_flow": null,
            "grid_auto_rows": null,
            "grid_column": null,
            "grid_gap": null,
            "grid_row": null,
            "grid_template_areas": null,
            "grid_template_columns": null,
            "grid_template_rows": null,
            "height": null,
            "justify_content": null,
            "justify_items": null,
            "left": null,
            "margin": null,
            "max_height": null,
            "max_width": null,
            "min_height": null,
            "min_width": null,
            "object_fit": null,
            "object_position": null,
            "order": null,
            "overflow": null,
            "overflow_x": null,
            "overflow_y": null,
            "padding": null,
            "right": null,
            "top": null,
            "visibility": null,
            "width": null
          }
        },
        "42b60b84c42f4c9b99a292ff5b214058": {
          "model_module": "@jupyter-widgets/controls",
          "model_module_version": "1.5.0",
          "model_name": "DescriptionStyleModel",
          "state": {
            "_model_module": "@jupyter-widgets/controls",
            "_model_module_version": "1.5.0",
            "_model_name": "DescriptionStyleModel",
            "_view_count": null,
            "_view_module": "@jupyter-widgets/base",
            "_view_module_version": "1.2.0",
            "_view_name": "StyleView",
            "description_width": ""
          }
        },
        "4b192840937941548a5399d092ea84eb": {
          "model_module": "@jupyter-widgets/controls",
          "model_module_version": "1.5.0",
          "model_name": "HTMLModel",
          "state": {
            "_dom_classes": [],
            "_model_module": "@jupyter-widgets/controls",
            "_model_module_version": "1.5.0",
            "_model_name": "HTMLModel",
            "_view_count": null,
            "_view_module": "@jupyter-widgets/controls",
            "_view_module_version": "1.5.0",
            "_view_name": "HTMLView",
            "description": "",
            "description_tooltip": null,
            "layout": "IPY_MODEL_3220eca280434531b09bdb4ffd3fe8d2",
            "placeholder": "​",
            "style": "IPY_MODEL_06d7ba5890ed43dbbf5b24feb70e0b84",
            "value": "Map: 100%"
          }
        },
        "4fd23ba4ceaa4f5fa2221471655cafee": {
          "model_module": "@jupyter-widgets/base",
          "model_module_version": "1.2.0",
          "model_name": "LayoutModel",
          "state": {
            "_model_module": "@jupyter-widgets/base",
            "_model_module_version": "1.2.0",
            "_model_name": "LayoutModel",
            "_view_count": null,
            "_view_module": "@jupyter-widgets/base",
            "_view_module_version": "1.2.0",
            "_view_name": "LayoutView",
            "align_content": null,
            "align_items": null,
            "align_self": null,
            "border": null,
            "bottom": null,
            "display": null,
            "flex": null,
            "flex_flow": null,
            "grid_area": null,
            "grid_auto_columns": null,
            "grid_auto_flow": null,
            "grid_auto_rows": null,
            "grid_column": null,
            "grid_gap": null,
            "grid_row": null,
            "grid_template_areas": null,
            "grid_template_columns": null,
            "grid_template_rows": null,
            "height": null,
            "justify_content": null,
            "justify_items": null,
            "left": null,
            "margin": null,
            "max_height": null,
            "max_width": null,
            "min_height": null,
            "min_width": null,
            "object_fit": null,
            "object_position": null,
            "order": null,
            "overflow": null,
            "overflow_x": null,
            "overflow_y": null,
            "padding": null,
            "right": null,
            "top": null,
            "visibility": null,
            "width": null
          }
        },
        "523c3aae214a4c5cab8b8eaa92bd5157": {
          "model_module": "@jupyter-widgets/base",
          "model_module_version": "1.2.0",
          "model_name": "LayoutModel",
          "state": {
            "_model_module": "@jupyter-widgets/base",
            "_model_module_version": "1.2.0",
            "_model_name": "LayoutModel",
            "_view_count": null,
            "_view_module": "@jupyter-widgets/base",
            "_view_module_version": "1.2.0",
            "_view_name": "LayoutView",
            "align_content": null,
            "align_items": null,
            "align_self": null,
            "border": null,
            "bottom": null,
            "display": null,
            "flex": null,
            "flex_flow": null,
            "grid_area": null,
            "grid_auto_columns": null,
            "grid_auto_flow": null,
            "grid_auto_rows": null,
            "grid_column": null,
            "grid_gap": null,
            "grid_row": null,
            "grid_template_areas": null,
            "grid_template_columns": null,
            "grid_template_rows": null,
            "height": null,
            "justify_content": null,
            "justify_items": null,
            "left": null,
            "margin": null,
            "max_height": null,
            "max_width": null,
            "min_height": null,
            "min_width": null,
            "object_fit": null,
            "object_position": null,
            "order": null,
            "overflow": null,
            "overflow_x": null,
            "overflow_y": null,
            "padding": null,
            "right": null,
            "top": null,
            "visibility": null,
            "width": null
          }
        },
        "53cfb718c894467fb4d554e740293ffd": {
          "model_module": "@jupyter-widgets/controls",
          "model_module_version": "1.5.0",
          "model_name": "HTMLModel",
          "state": {
            "_dom_classes": [],
            "_model_module": "@jupyter-widgets/controls",
            "_model_module_version": "1.5.0",
            "_model_name": "HTMLModel",
            "_view_count": null,
            "_view_module": "@jupyter-widgets/controls",
            "_view_module_version": "1.5.0",
            "_view_name": "HTMLView",
            "description": "",
            "description_tooltip": null,
            "layout": "IPY_MODEL_5981669c5d8d432e976e9ba7ac1c03cc",
            "placeholder": "​",
            "style": "IPY_MODEL_8edcfa75868747538181b065c8a059cb",
            "value": " 85/85 [00:00&lt;00:00, 1361.17 examples/s]"
          }
        },
        "5491e843ee7c4e1e8c6ffcb044c5e33b": {
          "model_module": "@jupyter-widgets/base",
          "model_module_version": "1.2.0",
          "model_name": "LayoutModel",
          "state": {
            "_model_module": "@jupyter-widgets/base",
            "_model_module_version": "1.2.0",
            "_model_name": "LayoutModel",
            "_view_count": null,
            "_view_module": "@jupyter-widgets/base",
            "_view_module_version": "1.2.0",
            "_view_name": "LayoutView",
            "align_content": null,
            "align_items": null,
            "align_self": null,
            "border": null,
            "bottom": null,
            "display": null,
            "flex": null,
            "flex_flow": null,
            "grid_area": null,
            "grid_auto_columns": null,
            "grid_auto_flow": null,
            "grid_auto_rows": null,
            "grid_column": null,
            "grid_gap": null,
            "grid_row": null,
            "grid_template_areas": null,
            "grid_template_columns": null,
            "grid_template_rows": null,
            "height": null,
            "justify_content": null,
            "justify_items": null,
            "left": null,
            "margin": null,
            "max_height": null,
            "max_width": null,
            "min_height": null,
            "min_width": null,
            "object_fit": null,
            "object_position": null,
            "order": null,
            "overflow": null,
            "overflow_x": null,
            "overflow_y": null,
            "padding": null,
            "right": null,
            "top": null,
            "visibility": null,
            "width": null
          }
        },
        "54d70c2d083d4df3990a78233224154d": {
          "model_module": "@jupyter-widgets/base",
          "model_module_version": "1.2.0",
          "model_name": "LayoutModel",
          "state": {
            "_model_module": "@jupyter-widgets/base",
            "_model_module_version": "1.2.0",
            "_model_name": "LayoutModel",
            "_view_count": null,
            "_view_module": "@jupyter-widgets/base",
            "_view_module_version": "1.2.0",
            "_view_name": "LayoutView",
            "align_content": null,
            "align_items": null,
            "align_self": null,
            "border": null,
            "bottom": null,
            "display": null,
            "flex": null,
            "flex_flow": null,
            "grid_area": null,
            "grid_auto_columns": null,
            "grid_auto_flow": null,
            "grid_auto_rows": null,
            "grid_column": null,
            "grid_gap": null,
            "grid_row": null,
            "grid_template_areas": null,
            "grid_template_columns": null,
            "grid_template_rows": null,
            "height": null,
            "justify_content": null,
            "justify_items": null,
            "left": null,
            "margin": null,
            "max_height": null,
            "max_width": null,
            "min_height": null,
            "min_width": null,
            "object_fit": null,
            "object_position": null,
            "order": null,
            "overflow": null,
            "overflow_x": null,
            "overflow_y": null,
            "padding": null,
            "right": null,
            "top": null,
            "visibility": null,
            "width": null
          }
        },
        "5752431e32f94d698dd9a2ca94078297": {
          "model_module": "@jupyter-widgets/controls",
          "model_module_version": "1.5.0",
          "model_name": "HTMLModel",
          "state": {
            "_dom_classes": [],
            "_model_module": "@jupyter-widgets/controls",
            "_model_module_version": "1.5.0",
            "_model_name": "HTMLModel",
            "_view_count": null,
            "_view_module": "@jupyter-widgets/controls",
            "_view_module_version": "1.5.0",
            "_view_name": "HTMLView",
            "description": "",
            "description_tooltip": null,
            "layout": "IPY_MODEL_cfcb3047e1f84678a1efc0be3032cc0f",
            "placeholder": "​",
            "style": "IPY_MODEL_bb6d8f72e9624c56b5cd90682ee2574a",
            "value": " 86/86 [00:00&lt;00:00, 1102.26 examples/s]"
          }
        },
        "5981669c5d8d432e976e9ba7ac1c03cc": {
          "model_module": "@jupyter-widgets/base",
          "model_module_version": "1.2.0",
          "model_name": "LayoutModel",
          "state": {
            "_model_module": "@jupyter-widgets/base",
            "_model_module_version": "1.2.0",
            "_model_name": "LayoutModel",
            "_view_count": null,
            "_view_module": "@jupyter-widgets/base",
            "_view_module_version": "1.2.0",
            "_view_name": "LayoutView",
            "align_content": null,
            "align_items": null,
            "align_self": null,
            "border": null,
            "bottom": null,
            "display": null,
            "flex": null,
            "flex_flow": null,
            "grid_area": null,
            "grid_auto_columns": null,
            "grid_auto_flow": null,
            "grid_auto_rows": null,
            "grid_column": null,
            "grid_gap": null,
            "grid_row": null,
            "grid_template_areas": null,
            "grid_template_columns": null,
            "grid_template_rows": null,
            "height": null,
            "justify_content": null,
            "justify_items": null,
            "left": null,
            "margin": null,
            "max_height": null,
            "max_width": null,
            "min_height": null,
            "min_width": null,
            "object_fit": null,
            "object_position": null,
            "order": null,
            "overflow": null,
            "overflow_x": null,
            "overflow_y": null,
            "padding": null,
            "right": null,
            "top": null,
            "visibility": null,
            "width": null
          }
        },
        "5a909deed9544d7bb03d41c25c1f86bc": {
          "model_module": "@jupyter-widgets/controls",
          "model_module_version": "1.5.0",
          "model_name": "HBoxModel",
          "state": {
            "_dom_classes": [],
            "_model_module": "@jupyter-widgets/controls",
            "_model_module_version": "1.5.0",
            "_model_name": "HBoxModel",
            "_view_count": null,
            "_view_module": "@jupyter-widgets/controls",
            "_view_module_version": "1.5.0",
            "_view_name": "HBoxView",
            "box_style": "",
            "children": [
              "IPY_MODEL_25f16b39951a48758cfab4b95db41569",
              "IPY_MODEL_648917039b4c4173a9644af394fc07d7",
              "IPY_MODEL_5752431e32f94d698dd9a2ca94078297"
            ],
            "layout": "IPY_MODEL_d9f3b83a9b4944feb036b95cf240acdb"
          }
        },
        "618cf9e79b19415b85a689b9fb216355": {
          "model_module": "@jupyter-widgets/controls",
          "model_module_version": "1.5.0",
          "model_name": "DescriptionStyleModel",
          "state": {
            "_model_module": "@jupyter-widgets/controls",
            "_model_module_version": "1.5.0",
            "_model_name": "DescriptionStyleModel",
            "_view_count": null,
            "_view_module": "@jupyter-widgets/base",
            "_view_module_version": "1.2.0",
            "_view_name": "StyleView",
            "description_width": ""
          }
        },
        "648917039b4c4173a9644af394fc07d7": {
          "model_module": "@jupyter-widgets/controls",
          "model_module_version": "1.5.0",
          "model_name": "FloatProgressModel",
          "state": {
            "_dom_classes": [],
            "_model_module": "@jupyter-widgets/controls",
            "_model_module_version": "1.5.0",
            "_model_name": "FloatProgressModel",
            "_view_count": null,
            "_view_module": "@jupyter-widgets/controls",
            "_view_module_version": "1.5.0",
            "_view_name": "ProgressView",
            "bar_style": "success",
            "description": "",
            "description_tooltip": null,
            "layout": "IPY_MODEL_54d70c2d083d4df3990a78233224154d",
            "max": 86,
            "min": 0,
            "orientation": "horizontal",
            "style": "IPY_MODEL_75439940ed5345e1a46ef7b308a6db3c",
            "value": 86
          }
        },
        "674576b65cdf462d92c1d12ef92160ee": {
          "model_module": "@jupyter-widgets/controls",
          "model_module_version": "1.5.0",
          "model_name": "ProgressStyleModel",
          "state": {
            "_model_module": "@jupyter-widgets/controls",
            "_model_module_version": "1.5.0",
            "_model_name": "ProgressStyleModel",
            "_view_count": null,
            "_view_module": "@jupyter-widgets/base",
            "_view_module_version": "1.2.0",
            "_view_name": "StyleView",
            "bar_color": null,
            "description_width": ""
          }
        },
        "68b69b5c27f4468188a2e2a727a3ea98": {
          "model_module": "@jupyter-widgets/controls",
          "model_module_version": "1.5.0",
          "model_name": "HBoxModel",
          "state": {
            "_dom_classes": [],
            "_model_module": "@jupyter-widgets/controls",
            "_model_module_version": "1.5.0",
            "_model_name": "HBoxModel",
            "_view_count": null,
            "_view_module": "@jupyter-widgets/controls",
            "_view_module_version": "1.5.0",
            "_view_name": "HBoxView",
            "box_style": "",
            "children": [
              "IPY_MODEL_e840876f414747be81965d6972c073a0",
              "IPY_MODEL_1ce6b57ed709416eb580097c3238c5f5",
              "IPY_MODEL_53cfb718c894467fb4d554e740293ffd"
            ],
            "layout": "IPY_MODEL_4fd23ba4ceaa4f5fa2221471655cafee"
          }
        },
        "75439940ed5345e1a46ef7b308a6db3c": {
          "model_module": "@jupyter-widgets/controls",
          "model_module_version": "1.5.0",
          "model_name": "ProgressStyleModel",
          "state": {
            "_model_module": "@jupyter-widgets/controls",
            "_model_module_version": "1.5.0",
            "_model_name": "ProgressStyleModel",
            "_view_count": null,
            "_view_module": "@jupyter-widgets/base",
            "_view_module_version": "1.2.0",
            "_view_name": "StyleView",
            "bar_color": null,
            "description_width": ""
          }
        },
        "78a0b4e9af2d44b3a890330c2d512dde": {
          "model_module": "@jupyter-widgets/base",
          "model_module_version": "1.2.0",
          "model_name": "LayoutModel",
          "state": {
            "_model_module": "@jupyter-widgets/base",
            "_model_module_version": "1.2.0",
            "_model_name": "LayoutModel",
            "_view_count": null,
            "_view_module": "@jupyter-widgets/base",
            "_view_module_version": "1.2.0",
            "_view_name": "LayoutView",
            "align_content": null,
            "align_items": null,
            "align_self": null,
            "border": null,
            "bottom": null,
            "display": null,
            "flex": null,
            "flex_flow": null,
            "grid_area": null,
            "grid_auto_columns": null,
            "grid_auto_flow": null,
            "grid_auto_rows": null,
            "grid_column": null,
            "grid_gap": null,
            "grid_row": null,
            "grid_template_areas": null,
            "grid_template_columns": null,
            "grid_template_rows": null,
            "height": null,
            "justify_content": null,
            "justify_items": null,
            "left": null,
            "margin": null,
            "max_height": null,
            "max_width": null,
            "min_height": null,
            "min_width": null,
            "object_fit": null,
            "object_position": null,
            "order": null,
            "overflow": null,
            "overflow_x": null,
            "overflow_y": null,
            "padding": null,
            "right": null,
            "top": null,
            "visibility": null,
            "width": null
          }
        },
        "8edcfa75868747538181b065c8a059cb": {
          "model_module": "@jupyter-widgets/controls",
          "model_module_version": "1.5.0",
          "model_name": "DescriptionStyleModel",
          "state": {
            "_model_module": "@jupyter-widgets/controls",
            "_model_module_version": "1.5.0",
            "_model_name": "DescriptionStyleModel",
            "_view_count": null,
            "_view_module": "@jupyter-widgets/base",
            "_view_module_version": "1.2.0",
            "_view_name": "StyleView",
            "description_width": ""
          }
        },
        "9e9faa29a50e406bb85e7e19a4b2a995": {
          "model_module": "@jupyter-widgets/controls",
          "model_module_version": "1.5.0",
          "model_name": "HTMLModel",
          "state": {
            "_dom_classes": [],
            "_model_module": "@jupyter-widgets/controls",
            "_model_module_version": "1.5.0",
            "_model_name": "HTMLModel",
            "_view_count": null,
            "_view_module": "@jupyter-widgets/controls",
            "_view_module_version": "1.5.0",
            "_view_name": "HTMLView",
            "description": "",
            "description_tooltip": null,
            "layout": "IPY_MODEL_ee34fcd8a89e493c961fad3f08e501e5",
            "placeholder": "​",
            "style": "IPY_MODEL_b0fafe8c14b74deab4be765f631ad1ef",
            "value": "Map: 100%"
          }
        },
        "a607934ecc90440ea48b7dc53e64f1cc": {
          "model_module": "@jupyter-widgets/controls",
          "model_module_version": "1.5.0",
          "model_name": "FloatProgressModel",
          "state": {
            "_dom_classes": [],
            "_model_module": "@jupyter-widgets/controls",
            "_model_module_version": "1.5.0",
            "_model_name": "FloatProgressModel",
            "_view_count": null,
            "_view_module": "@jupyter-widgets/controls",
            "_view_module_version": "1.5.0",
            "_view_name": "ProgressView",
            "bar_style": "success",
            "description": "",
            "description_tooltip": null,
            "layout": "IPY_MODEL_f887a1ab52014f65b066c10e8020db66",
            "max": 171,
            "min": 0,
            "orientation": "horizontal",
            "style": "IPY_MODEL_cc68a4d748ef414ba3efe6376a133548",
            "value": 171
          }
        },
        "b0fafe8c14b74deab4be765f631ad1ef": {
          "model_module": "@jupyter-widgets/controls",
          "model_module_version": "1.5.0",
          "model_name": "DescriptionStyleModel",
          "state": {
            "_model_module": "@jupyter-widgets/controls",
            "_model_module_version": "1.5.0",
            "_model_name": "DescriptionStyleModel",
            "_view_count": null,
            "_view_module": "@jupyter-widgets/base",
            "_view_module_version": "1.2.0",
            "_view_name": "StyleView",
            "description_width": ""
          }
        },
        "b3a5af2b77aa4461b4dcb3843f00ae57": {
          "model_module": "@jupyter-widgets/controls",
          "model_module_version": "1.5.0",
          "model_name": "HBoxModel",
          "state": {
            "_dom_classes": [],
            "_model_module": "@jupyter-widgets/controls",
            "_model_module_version": "1.5.0",
            "_model_name": "HBoxModel",
            "_view_count": null,
            "_view_module": "@jupyter-widgets/controls",
            "_view_module_version": "1.5.0",
            "_view_name": "HBoxView",
            "box_style": "",
            "children": [
              "IPY_MODEL_9e9faa29a50e406bb85e7e19a4b2a995",
              "IPY_MODEL_058af48d5f34429688d439d1225e3f14",
              "IPY_MODEL_e156a16ab9b24ad7a026874ec5091303"
            ],
            "layout": "IPY_MODEL_24e742c444da4e1ca081fa30a1cae0d8"
          }
        },
        "bb6d8f72e9624c56b5cd90682ee2574a": {
          "model_module": "@jupyter-widgets/controls",
          "model_module_version": "1.5.0",
          "model_name": "DescriptionStyleModel",
          "state": {
            "_model_module": "@jupyter-widgets/controls",
            "_model_module_version": "1.5.0",
            "_model_name": "DescriptionStyleModel",
            "_view_count": null,
            "_view_module": "@jupyter-widgets/base",
            "_view_module_version": "1.2.0",
            "_view_name": "StyleView",
            "description_width": ""
          }
        },
        "cc68a4d748ef414ba3efe6376a133548": {
          "model_module": "@jupyter-widgets/controls",
          "model_module_version": "1.5.0",
          "model_name": "ProgressStyleModel",
          "state": {
            "_model_module": "@jupyter-widgets/controls",
            "_model_module_version": "1.5.0",
            "_model_name": "ProgressStyleModel",
            "_view_count": null,
            "_view_module": "@jupyter-widgets/base",
            "_view_module_version": "1.2.0",
            "_view_name": "StyleView",
            "bar_color": null,
            "description_width": ""
          }
        },
        "cfcb3047e1f84678a1efc0be3032cc0f": {
          "model_module": "@jupyter-widgets/base",
          "model_module_version": "1.2.0",
          "model_name": "LayoutModel",
          "state": {
            "_model_module": "@jupyter-widgets/base",
            "_model_module_version": "1.2.0",
            "_model_name": "LayoutModel",
            "_view_count": null,
            "_view_module": "@jupyter-widgets/base",
            "_view_module_version": "1.2.0",
            "_view_name": "LayoutView",
            "align_content": null,
            "align_items": null,
            "align_self": null,
            "border": null,
            "bottom": null,
            "display": null,
            "flex": null,
            "flex_flow": null,
            "grid_area": null,
            "grid_auto_columns": null,
            "grid_auto_flow": null,
            "grid_auto_rows": null,
            "grid_column": null,
            "grid_gap": null,
            "grid_row": null,
            "grid_template_areas": null,
            "grid_template_columns": null,
            "grid_template_rows": null,
            "height": null,
            "justify_content": null,
            "justify_items": null,
            "left": null,
            "margin": null,
            "max_height": null,
            "max_width": null,
            "min_height": null,
            "min_width": null,
            "object_fit": null,
            "object_position": null,
            "order": null,
            "overflow": null,
            "overflow_x": null,
            "overflow_y": null,
            "padding": null,
            "right": null,
            "top": null,
            "visibility": null,
            "width": null
          }
        },
        "d6cdfe110e864ddd886fed6fb697ef38": {
          "model_module": "@jupyter-widgets/base",
          "model_module_version": "1.2.0",
          "model_name": "LayoutModel",
          "state": {
            "_model_module": "@jupyter-widgets/base",
            "_model_module_version": "1.2.0",
            "_model_name": "LayoutModel",
            "_view_count": null,
            "_view_module": "@jupyter-widgets/base",
            "_view_module_version": "1.2.0",
            "_view_name": "LayoutView",
            "align_content": null,
            "align_items": null,
            "align_self": null,
            "border": null,
            "bottom": null,
            "display": null,
            "flex": null,
            "flex_flow": null,
            "grid_area": null,
            "grid_auto_columns": null,
            "grid_auto_flow": null,
            "grid_auto_rows": null,
            "grid_column": null,
            "grid_gap": null,
            "grid_row": null,
            "grid_template_areas": null,
            "grid_template_columns": null,
            "grid_template_rows": null,
            "height": null,
            "justify_content": null,
            "justify_items": null,
            "left": null,
            "margin": null,
            "max_height": null,
            "max_width": null,
            "min_height": null,
            "min_width": null,
            "object_fit": null,
            "object_position": null,
            "order": null,
            "overflow": null,
            "overflow_x": null,
            "overflow_y": null,
            "padding": null,
            "right": null,
            "top": null,
            "visibility": null,
            "width": null
          }
        },
        "d9f3b83a9b4944feb036b95cf240acdb": {
          "model_module": "@jupyter-widgets/base",
          "model_module_version": "1.2.0",
          "model_name": "LayoutModel",
          "state": {
            "_model_module": "@jupyter-widgets/base",
            "_model_module_version": "1.2.0",
            "_model_name": "LayoutModel",
            "_view_count": null,
            "_view_module": "@jupyter-widgets/base",
            "_view_module_version": "1.2.0",
            "_view_name": "LayoutView",
            "align_content": null,
            "align_items": null,
            "align_self": null,
            "border": null,
            "bottom": null,
            "display": null,
            "flex": null,
            "flex_flow": null,
            "grid_area": null,
            "grid_auto_columns": null,
            "grid_auto_flow": null,
            "grid_auto_rows": null,
            "grid_column": null,
            "grid_gap": null,
            "grid_row": null,
            "grid_template_areas": null,
            "grid_template_columns": null,
            "grid_template_rows": null,
            "height": null,
            "justify_content": null,
            "justify_items": null,
            "left": null,
            "margin": null,
            "max_height": null,
            "max_width": null,
            "min_height": null,
            "min_width": null,
            "object_fit": null,
            "object_position": null,
            "order": null,
            "overflow": null,
            "overflow_x": null,
            "overflow_y": null,
            "padding": null,
            "right": null,
            "top": null,
            "visibility": null,
            "width": null
          }
        },
        "e151d226eb59458297897dd2e4025537": {
          "model_module": "@jupyter-widgets/base",
          "model_module_version": "1.2.0",
          "model_name": "LayoutModel",
          "state": {
            "_model_module": "@jupyter-widgets/base",
            "_model_module_version": "1.2.0",
            "_model_name": "LayoutModel",
            "_view_count": null,
            "_view_module": "@jupyter-widgets/base",
            "_view_module_version": "1.2.0",
            "_view_name": "LayoutView",
            "align_content": null,
            "align_items": null,
            "align_self": null,
            "border": null,
            "bottom": null,
            "display": null,
            "flex": null,
            "flex_flow": null,
            "grid_area": null,
            "grid_auto_columns": null,
            "grid_auto_flow": null,
            "grid_auto_rows": null,
            "grid_column": null,
            "grid_gap": null,
            "grid_row": null,
            "grid_template_areas": null,
            "grid_template_columns": null,
            "grid_template_rows": null,
            "height": null,
            "justify_content": null,
            "justify_items": null,
            "left": null,
            "margin": null,
            "max_height": null,
            "max_width": null,
            "min_height": null,
            "min_width": null,
            "object_fit": null,
            "object_position": null,
            "order": null,
            "overflow": null,
            "overflow_x": null,
            "overflow_y": null,
            "padding": null,
            "right": null,
            "top": null,
            "visibility": null,
            "width": null
          }
        },
        "e156a16ab9b24ad7a026874ec5091303": {
          "model_module": "@jupyter-widgets/controls",
          "model_module_version": "1.5.0",
          "model_name": "HTMLModel",
          "state": {
            "_dom_classes": [],
            "_model_module": "@jupyter-widgets/controls",
            "_model_module_version": "1.5.0",
            "_model_name": "HTMLModel",
            "_view_count": null,
            "_view_module": "@jupyter-widgets/controls",
            "_view_module_version": "1.5.0",
            "_view_name": "HTMLView",
            "description": "",
            "description_tooltip": null,
            "layout": "IPY_MODEL_523c3aae214a4c5cab8b8eaa92bd5157",
            "placeholder": "​",
            "style": "IPY_MODEL_42b60b84c42f4c9b99a292ff5b214058",
            "value": " 1057/1057 [00:00&lt;00:00, 1893.89 examples/s]"
          }
        },
        "e840876f414747be81965d6972c073a0": {
          "model_module": "@jupyter-widgets/controls",
          "model_module_version": "1.5.0",
          "model_name": "HTMLModel",
          "state": {
            "_dom_classes": [],
            "_model_module": "@jupyter-widgets/controls",
            "_model_module_version": "1.5.0",
            "_model_name": "HTMLModel",
            "_view_count": null,
            "_view_module": "@jupyter-widgets/controls",
            "_view_module_version": "1.5.0",
            "_view_name": "HTMLView",
            "description": "",
            "description_tooltip": null,
            "layout": "IPY_MODEL_d6cdfe110e864ddd886fed6fb697ef38",
            "placeholder": "​",
            "style": "IPY_MODEL_f3907214bae1426b9ecb9f1a8b896652",
            "value": "Map: 100%"
          }
        },
        "ee34fcd8a89e493c961fad3f08e501e5": {
          "model_module": "@jupyter-widgets/base",
          "model_module_version": "1.2.0",
          "model_name": "LayoutModel",
          "state": {
            "_model_module": "@jupyter-widgets/base",
            "_model_module_version": "1.2.0",
            "_model_name": "LayoutModel",
            "_view_count": null,
            "_view_module": "@jupyter-widgets/base",
            "_view_module_version": "1.2.0",
            "_view_name": "LayoutView",
            "align_content": null,
            "align_items": null,
            "align_self": null,
            "border": null,
            "bottom": null,
            "display": null,
            "flex": null,
            "flex_flow": null,
            "grid_area": null,
            "grid_auto_columns": null,
            "grid_auto_flow": null,
            "grid_auto_rows": null,
            "grid_column": null,
            "grid_gap": null,
            "grid_row": null,
            "grid_template_areas": null,
            "grid_template_columns": null,
            "grid_template_rows": null,
            "height": null,
            "justify_content": null,
            "justify_items": null,
            "left": null,
            "margin": null,
            "max_height": null,
            "max_width": null,
            "min_height": null,
            "min_width": null,
            "object_fit": null,
            "object_position": null,
            "order": null,
            "overflow": null,
            "overflow_x": null,
            "overflow_y": null,
            "padding": null,
            "right": null,
            "top": null,
            "visibility": null,
            "width": null
          }
        },
        "f3907214bae1426b9ecb9f1a8b896652": {
          "model_module": "@jupyter-widgets/controls",
          "model_module_version": "1.5.0",
          "model_name": "DescriptionStyleModel",
          "state": {
            "_model_module": "@jupyter-widgets/controls",
            "_model_module_version": "1.5.0",
            "_model_name": "DescriptionStyleModel",
            "_view_count": null,
            "_view_module": "@jupyter-widgets/base",
            "_view_module_version": "1.2.0",
            "_view_name": "StyleView",
            "description_width": ""
          }
        },
        "f490ff7cba504a43b7e8cc7aaa01371d": {
          "model_module": "@jupyter-widgets/controls",
          "model_module_version": "1.5.0",
          "model_name": "HBoxModel",
          "state": {
            "_dom_classes": [],
            "_model_module": "@jupyter-widgets/controls",
            "_model_module_version": "1.5.0",
            "_model_name": "HBoxModel",
            "_view_count": null,
            "_view_module": "@jupyter-widgets/controls",
            "_view_module_version": "1.5.0",
            "_view_name": "HBoxView",
            "box_style": "",
            "children": [
              "IPY_MODEL_4b192840937941548a5399d092ea84eb",
              "IPY_MODEL_a607934ecc90440ea48b7dc53e64f1cc",
              "IPY_MODEL_32b524d53c804b0b9991d63a25b8fc41"
            ],
            "layout": "IPY_MODEL_084e488bfb4f46269953ec3cf3e743d0"
          }
        },
        "f7193d59c3884e64882cae0ff2bf7421": {
          "model_module": "@jupyter-widgets/controls",
          "model_module_version": "1.5.0",
          "model_name": "DescriptionStyleModel",
          "state": {
            "_model_module": "@jupyter-widgets/controls",
            "_model_module_version": "1.5.0",
            "_model_name": "DescriptionStyleModel",
            "_view_count": null,
            "_view_module": "@jupyter-widgets/base",
            "_view_module_version": "1.2.0",
            "_view_name": "StyleView",
            "description_width": ""
          }
        },
        "f878be8994794969a8687f984ce2e746": {
          "model_module": "@jupyter-widgets/controls",
          "model_module_version": "1.5.0",
          "model_name": "ProgressStyleModel",
          "state": {
            "_model_module": "@jupyter-widgets/controls",
            "_model_module_version": "1.5.0",
            "_model_name": "ProgressStyleModel",
            "_view_count": null,
            "_view_module": "@jupyter-widgets/base",
            "_view_module_version": "1.2.0",
            "_view_name": "StyleView",
            "bar_color": null,
            "description_width": ""
          }
        },
        "f887a1ab52014f65b066c10e8020db66": {
          "model_module": "@jupyter-widgets/base",
          "model_module_version": "1.2.0",
          "model_name": "LayoutModel",
          "state": {
            "_model_module": "@jupyter-widgets/base",
            "_model_module_version": "1.2.0",
            "_model_name": "LayoutModel",
            "_view_count": null,
            "_view_module": "@jupyter-widgets/base",
            "_view_module_version": "1.2.0",
            "_view_name": "LayoutView",
            "align_content": null,
            "align_items": null,
            "align_self": null,
            "border": null,
            "bottom": null,
            "display": null,
            "flex": null,
            "flex_flow": null,
            "grid_area": null,
            "grid_auto_columns": null,
            "grid_auto_flow": null,
            "grid_auto_rows": null,
            "grid_column": null,
            "grid_gap": null,
            "grid_row": null,
            "grid_template_areas": null,
            "grid_template_columns": null,
            "grid_template_rows": null,
            "height": null,
            "justify_content": null,
            "justify_items": null,
            "left": null,
            "margin": null,
            "max_height": null,
            "max_width": null,
            "min_height": null,
            "min_width": null,
            "object_fit": null,
            "object_position": null,
            "order": null,
            "overflow": null,
            "overflow_x": null,
            "overflow_y": null,
            "padding": null,
            "right": null,
            "top": null,
            "visibility": null,
            "width": null
          }
        }
      }
    }
  },
  "nbformat": 4,
  "nbformat_minor": 0
}
